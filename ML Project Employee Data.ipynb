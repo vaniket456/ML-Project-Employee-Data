{
 "cells": [
  {
   "cell_type": "code",
   "execution_count": 1,
   "id": "8c6752d2",
   "metadata": {
    "id": "8c6752d2"
   },
   "outputs": [],
   "source": [
    "#predict employee churn:\n",
    "#churn means quit service or not"
   ]
  },
  {
   "cell_type": "code",
   "execution_count": 2,
   "id": "7a711416",
   "metadata": {
    "id": "7a711416"
   },
   "outputs": [],
   "source": [
    "import matplotlib.pyplot as plt\n",
    "import seaborn as sns\n",
    "import pandas as pd\n",
    "import numpy as np\n",
    "import warnings\n",
    "warnings.filterwarnings(\"ignore\")"
   ]
  },
  {
   "cell_type": "code",
   "execution_count": 3,
   "id": "670ed8d5",
   "metadata": {
    "colab": {
     "base_uri": "https://localhost:8080/",
     "height": 206
    },
    "id": "670ed8d5",
    "outputId": "625a73e2-f1ae-41e9-efa6-e07c86f12014"
   },
   "outputs": [
    {
     "data": {
      "text/html": [
       "<div>\n",
       "<style scoped>\n",
       "    .dataframe tbody tr th:only-of-type {\n",
       "        vertical-align: middle;\n",
       "    }\n",
       "\n",
       "    .dataframe tbody tr th {\n",
       "        vertical-align: top;\n",
       "    }\n",
       "\n",
       "    .dataframe thead th {\n",
       "        text-align: right;\n",
       "    }\n",
       "</style>\n",
       "<table border=\"1\" class=\"dataframe\">\n",
       "  <thead>\n",
       "    <tr style=\"text-align: right;\">\n",
       "      <th></th>\n",
       "      <th>satisfaction_level</th>\n",
       "      <th>last_evaluation</th>\n",
       "      <th>number_project</th>\n",
       "      <th>average_montly_hours</th>\n",
       "      <th>time_spend_company</th>\n",
       "      <th>Work_accident</th>\n",
       "      <th>quit</th>\n",
       "      <th>promotion_last_5years</th>\n",
       "      <th>department</th>\n",
       "      <th>salary</th>\n",
       "    </tr>\n",
       "  </thead>\n",
       "  <tbody>\n",
       "    <tr>\n",
       "      <th>0</th>\n",
       "      <td>0.38</td>\n",
       "      <td>0.53</td>\n",
       "      <td>2</td>\n",
       "      <td>157</td>\n",
       "      <td>3</td>\n",
       "      <td>0</td>\n",
       "      <td>1</td>\n",
       "      <td>0.0</td>\n",
       "      <td>sales</td>\n",
       "      <td>low</td>\n",
       "    </tr>\n",
       "    <tr>\n",
       "      <th>1</th>\n",
       "      <td>0.80</td>\n",
       "      <td>0.86</td>\n",
       "      <td>5</td>\n",
       "      <td>262</td>\n",
       "      <td>6</td>\n",
       "      <td>0</td>\n",
       "      <td>1</td>\n",
       "      <td>0.0</td>\n",
       "      <td>sales</td>\n",
       "      <td>medium</td>\n",
       "    </tr>\n",
       "    <tr>\n",
       "      <th>2</th>\n",
       "      <td>0.11</td>\n",
       "      <td>0.88</td>\n",
       "      <td>7</td>\n",
       "      <td>272</td>\n",
       "      <td>4</td>\n",
       "      <td>0</td>\n",
       "      <td>1</td>\n",
       "      <td>0.0</td>\n",
       "      <td>sales</td>\n",
       "      <td>medium</td>\n",
       "    </tr>\n",
       "    <tr>\n",
       "      <th>3</th>\n",
       "      <td>0.72</td>\n",
       "      <td>0.87</td>\n",
       "      <td>5</td>\n",
       "      <td>223</td>\n",
       "      <td>5</td>\n",
       "      <td>0</td>\n",
       "      <td>1</td>\n",
       "      <td>0.0</td>\n",
       "      <td>sales</td>\n",
       "      <td>low</td>\n",
       "    </tr>\n",
       "    <tr>\n",
       "      <th>4</th>\n",
       "      <td>0.37</td>\n",
       "      <td>0.52</td>\n",
       "      <td>2</td>\n",
       "      <td>159</td>\n",
       "      <td>3</td>\n",
       "      <td>0</td>\n",
       "      <td>1</td>\n",
       "      <td>0.0</td>\n",
       "      <td>sales</td>\n",
       "      <td>low</td>\n",
       "    </tr>\n",
       "  </tbody>\n",
       "</table>\n",
       "</div>"
      ],
      "text/plain": [
       "   satisfaction_level  last_evaluation  number_project  average_montly_hours  \\\n",
       "0                0.38             0.53               2                   157   \n",
       "1                0.80             0.86               5                   262   \n",
       "2                0.11             0.88               7                   272   \n",
       "3                0.72             0.87               5                   223   \n",
       "4                0.37             0.52               2                   159   \n",
       "\n",
       "   time_spend_company  Work_accident  quit  promotion_last_5years department  \\\n",
       "0                   3              0     1                    0.0      sales   \n",
       "1                   6              0     1                    0.0      sales   \n",
       "2                   4              0     1                    0.0      sales   \n",
       "3                   5              0     1                    0.0      sales   \n",
       "4                   3              0     1                    0.0      sales   \n",
       "\n",
       "   salary  \n",
       "0     low  \n",
       "1  medium  \n",
       "2  medium  \n",
       "3     low  \n",
       "4     low  "
      ]
     },
     "execution_count": 3,
     "metadata": {},
     "output_type": "execute_result"
    }
   ],
   "source": [
    "#First Load dataset\n",
    "df=pd.read_csv(\"employee_data.csv\")\n",
    "df.head() "
   ]
  },
  {
   "cell_type": "code",
   "execution_count": 4,
   "id": "4ada3561",
   "metadata": {
    "colab": {
     "base_uri": "https://localhost:8080/"
    },
    "id": "4ada3561",
    "outputId": "e865c866-b2bb-4470-c976-e08597d3558e"
   },
   "outputs": [
    {
     "data": {
      "text/plain": [
       "(11582, 10)"
      ]
     },
     "execution_count": 4,
     "metadata": {},
     "output_type": "execute_result"
    }
   ],
   "source": [
    "df.shape"
   ]
  },
  {
   "cell_type": "code",
   "execution_count": 5,
   "id": "ebdfc1ea",
   "metadata": {
    "colab": {
     "base_uri": "https://localhost:8080/"
    },
    "id": "ebdfc1ea",
    "outputId": "2be1ac48-52a3-416d-fbaf-b31f29e99990"
   },
   "outputs": [
    {
     "data": {
      "text/plain": [
       "array([1, 0], dtype=int64)"
      ]
     },
     "execution_count": 5,
     "metadata": {},
     "output_type": "execute_result"
    }
   ],
   "source": [
    "df[\"quit\"].unique()"
   ]
  },
  {
   "cell_type": "code",
   "execution_count": 6,
   "id": "64a1a832",
   "metadata": {
    "id": "64a1a832"
   },
   "outputs": [],
   "source": [
    "#here output column is quit and it has categorical data, so need to perform classification"
   ]
  },
  {
   "cell_type": "code",
   "execution_count": 7,
   "id": "9360ff99",
   "metadata": {
    "colab": {
     "base_uri": "https://localhost:8080/"
    },
    "id": "9360ff99",
    "outputId": "52d33929-e9d0-4a8f-970c-b64831593ead"
   },
   "outputs": [
    {
     "data": {
      "text/plain": [
       "satisfaction_level       0\n",
       "last_evaluation          0\n",
       "number_project           0\n",
       "average_montly_hours     0\n",
       "time_spend_company       0\n",
       "Work_accident            0\n",
       "quit                     0\n",
       "promotion_last_5years    1\n",
       "department               1\n",
       "salary                   1\n",
       "dtype: int64"
      ]
     },
     "execution_count": 7,
     "metadata": {},
     "output_type": "execute_result"
    }
   ],
   "source": [
    "#chcek the null values\n",
    "df.isnull().sum()"
   ]
  },
  {
   "cell_type": "code",
   "execution_count": 8,
   "id": "9636be90",
   "metadata": {
    "colab": {
     "base_uri": "https://localhost:8080/"
    },
    "id": "9636be90",
    "outputId": "63c9aabb-b938-4c36-a21e-8f972d91d13f"
   },
   "outputs": [
    {
     "data": {
      "text/plain": [
       "satisfaction_level       float64\n",
       "last_evaluation          float64\n",
       "number_project             int64\n",
       "average_montly_hours       int64\n",
       "time_spend_company         int64\n",
       "Work_accident              int64\n",
       "quit                       int64\n",
       "promotion_last_5years    float64\n",
       "department                object\n",
       "salary                    object\n",
       "dtype: object"
      ]
     },
     "execution_count": 8,
     "metadata": {},
     "output_type": "execute_result"
    }
   ],
   "source": [
    "df.dtypes"
   ]
  },
  {
   "cell_type": "code",
   "execution_count": 9,
   "id": "5fdb4bd0",
   "metadata": {
    "colab": {
     "base_uri": "https://localhost:8080/",
     "height": 300
    },
    "id": "5fdb4bd0",
    "outputId": "adc139d8-7933-4390-a995-7225d0524de8"
   },
   "outputs": [
    {
     "data": {
      "text/html": [
       "<div>\n",
       "<style scoped>\n",
       "    .dataframe tbody tr th:only-of-type {\n",
       "        vertical-align: middle;\n",
       "    }\n",
       "\n",
       "    .dataframe tbody tr th {\n",
       "        vertical-align: top;\n",
       "    }\n",
       "\n",
       "    .dataframe thead th {\n",
       "        text-align: right;\n",
       "    }\n",
       "</style>\n",
       "<table border=\"1\" class=\"dataframe\">\n",
       "  <thead>\n",
       "    <tr style=\"text-align: right;\">\n",
       "      <th></th>\n",
       "      <th>satisfaction_level</th>\n",
       "      <th>last_evaluation</th>\n",
       "      <th>number_project</th>\n",
       "      <th>average_montly_hours</th>\n",
       "      <th>time_spend_company</th>\n",
       "      <th>Work_accident</th>\n",
       "      <th>quit</th>\n",
       "      <th>promotion_last_5years</th>\n",
       "    </tr>\n",
       "  </thead>\n",
       "  <tbody>\n",
       "    <tr>\n",
       "      <th>count</th>\n",
       "      <td>11582.000000</td>\n",
       "      <td>11582.000000</td>\n",
       "      <td>11582.000000</td>\n",
       "      <td>11582.000000</td>\n",
       "      <td>11582.000000</td>\n",
       "      <td>11582.000000</td>\n",
       "      <td>11582.000000</td>\n",
       "      <td>11581.000000</td>\n",
       "    </tr>\n",
       "    <tr>\n",
       "      <th>mean</th>\n",
       "      <td>0.628308</td>\n",
       "      <td>0.716608</td>\n",
       "      <td>3.802884</td>\n",
       "      <td>200.523053</td>\n",
       "      <td>3.305215</td>\n",
       "      <td>0.152651</td>\n",
       "      <td>0.172682</td>\n",
       "      <td>0.013816</td>\n",
       "    </tr>\n",
       "    <tr>\n",
       "      <th>std</th>\n",
       "      <td>0.241985</td>\n",
       "      <td>0.168828</td>\n",
       "      <td>1.169843</td>\n",
       "      <td>48.839268</td>\n",
       "      <td>1.209369</td>\n",
       "      <td>0.359666</td>\n",
       "      <td>0.377988</td>\n",
       "      <td>0.116731</td>\n",
       "    </tr>\n",
       "    <tr>\n",
       "      <th>min</th>\n",
       "      <td>0.090000</td>\n",
       "      <td>0.360000</td>\n",
       "      <td>2.000000</td>\n",
       "      <td>96.000000</td>\n",
       "      <td>2.000000</td>\n",
       "      <td>0.000000</td>\n",
       "      <td>0.000000</td>\n",
       "      <td>0.000000</td>\n",
       "    </tr>\n",
       "    <tr>\n",
       "      <th>25%</th>\n",
       "      <td>0.480000</td>\n",
       "      <td>0.570000</td>\n",
       "      <td>3.000000</td>\n",
       "      <td>157.000000</td>\n",
       "      <td>3.000000</td>\n",
       "      <td>0.000000</td>\n",
       "      <td>0.000000</td>\n",
       "      <td>0.000000</td>\n",
       "    </tr>\n",
       "    <tr>\n",
       "      <th>50%</th>\n",
       "      <td>0.660000</td>\n",
       "      <td>0.720000</td>\n",
       "      <td>4.000000</td>\n",
       "      <td>200.000000</td>\n",
       "      <td>3.000000</td>\n",
       "      <td>0.000000</td>\n",
       "      <td>0.000000</td>\n",
       "      <td>0.000000</td>\n",
       "    </tr>\n",
       "    <tr>\n",
       "      <th>75%</th>\n",
       "      <td>0.820000</td>\n",
       "      <td>0.870000</td>\n",
       "      <td>5.000000</td>\n",
       "      <td>243.000000</td>\n",
       "      <td>4.000000</td>\n",
       "      <td>0.000000</td>\n",
       "      <td>0.000000</td>\n",
       "      <td>0.000000</td>\n",
       "    </tr>\n",
       "    <tr>\n",
       "      <th>max</th>\n",
       "      <td>1.000000</td>\n",
       "      <td>1.000000</td>\n",
       "      <td>7.000000</td>\n",
       "      <td>310.000000</td>\n",
       "      <td>10.000000</td>\n",
       "      <td>1.000000</td>\n",
       "      <td>1.000000</td>\n",
       "      <td>1.000000</td>\n",
       "    </tr>\n",
       "  </tbody>\n",
       "</table>\n",
       "</div>"
      ],
      "text/plain": [
       "       satisfaction_level  last_evaluation  number_project  \\\n",
       "count        11582.000000     11582.000000    11582.000000   \n",
       "mean             0.628308         0.716608        3.802884   \n",
       "std              0.241985         0.168828        1.169843   \n",
       "min              0.090000         0.360000        2.000000   \n",
       "25%              0.480000         0.570000        3.000000   \n",
       "50%              0.660000         0.720000        4.000000   \n",
       "75%              0.820000         0.870000        5.000000   \n",
       "max              1.000000         1.000000        7.000000   \n",
       "\n",
       "       average_montly_hours  time_spend_company  Work_accident          quit  \\\n",
       "count          11582.000000        11582.000000   11582.000000  11582.000000   \n",
       "mean             200.523053            3.305215       0.152651      0.172682   \n",
       "std               48.839268            1.209369       0.359666      0.377988   \n",
       "min               96.000000            2.000000       0.000000      0.000000   \n",
       "25%              157.000000            3.000000       0.000000      0.000000   \n",
       "50%              200.000000            3.000000       0.000000      0.000000   \n",
       "75%              243.000000            4.000000       0.000000      0.000000   \n",
       "max              310.000000           10.000000       1.000000      1.000000   \n",
       "\n",
       "       promotion_last_5years  \n",
       "count           11581.000000  \n",
       "mean                0.013816  \n",
       "std                 0.116731  \n",
       "min                 0.000000  \n",
       "25%                 0.000000  \n",
       "50%                 0.000000  \n",
       "75%                 0.000000  \n",
       "max                 1.000000  "
      ]
     },
     "execution_count": 9,
     "metadata": {},
     "output_type": "execute_result"
    }
   ],
   "source": [
    "df.describe()"
   ]
  },
  {
   "cell_type": "code",
   "execution_count": 10,
   "id": "6e5e1a1e",
   "metadata": {
    "colab": {
     "base_uri": "https://localhost:8080/"
    },
    "id": "6e5e1a1e",
    "outputId": "555c3685-e687-4608-fe20-3a778b4f11e5"
   },
   "outputs": [
    {
     "data": {
      "text/plain": [
       "satisfaction_level       0\n",
       "last_evaluation          0\n",
       "number_project           0\n",
       "average_montly_hours     0\n",
       "time_spend_company       0\n",
       "Work_accident            0\n",
       "quit                     0\n",
       "promotion_last_5years    0\n",
       "department               1\n",
       "salary                   1\n",
       "dtype: int64"
      ]
     },
     "execution_count": 10,
     "metadata": {},
     "output_type": "execute_result"
    }
   ],
   "source": [
    "#need to fill the null values\n",
    "a=df[\"promotion_last_5years\"].mean()\n",
    "a\n",
    "df[\"promotion_last_5years\"].fillna(a,inplace=True)\n",
    "#chcek the null values again\n",
    "df.isnull().sum()"
   ]
  },
  {
   "cell_type": "code",
   "execution_count": 11,
   "id": "b8fdb690",
   "metadata": {
    "colab": {
     "base_uri": "https://localhost:8080/"
    },
    "id": "b8fdb690",
    "outputId": "5df3b297-ca28-42ad-b51b-a230946f2479"
   },
   "outputs": [
    {
     "data": {
      "text/plain": [
       "satisfaction_level       0\n",
       "last_evaluation          0\n",
       "number_project           0\n",
       "average_montly_hours     0\n",
       "time_spend_company       0\n",
       "Work_accident            0\n",
       "quit                     0\n",
       "promotion_last_5years    0\n",
       "department               0\n",
       "salary                   1\n",
       "dtype: int64"
      ]
     },
     "execution_count": 11,
     "metadata": {},
     "output_type": "execute_result"
    }
   ],
   "source": [
    "#checking frequency to null values in object type data\n",
    "df[\"department\"].value_counts()\n",
    "df[\"department\"].fillna(\"sales\",inplace=True)\n",
    "#chcek the null values again\n",
    "df.isnull().sum()"
   ]
  },
  {
   "cell_type": "code",
   "execution_count": 12,
   "id": "57fd7c32",
   "metadata": {
    "colab": {
     "base_uri": "https://localhost:8080/"
    },
    "id": "57fd7c32",
    "outputId": "c88f7bae-1f1d-4be0-b348-43909da20868"
   },
   "outputs": [
    {
     "data": {
      "text/plain": [
       "satisfaction_level       0\n",
       "last_evaluation          0\n",
       "number_project           0\n",
       "average_montly_hours     0\n",
       "time_spend_company       0\n",
       "Work_accident            0\n",
       "quit                     0\n",
       "promotion_last_5years    0\n",
       "department               0\n",
       "salary                   0\n",
       "dtype: int64"
      ]
     },
     "execution_count": 12,
     "metadata": {},
     "output_type": "execute_result"
    }
   ],
   "source": [
    "#checking frequency to null values in object type data\n",
    "df[\"salary\"].value_counts()\n",
    "df[\"salary\"].fillna(\"low\",inplace=True)\n",
    "#chcek the null values again\n",
    "df.isnull().sum()"
   ]
  },
  {
   "cell_type": "code",
   "execution_count": 13,
   "id": "f3abf72e",
   "metadata": {
    "colab": {
     "base_uri": "https://localhost:8080/",
     "height": 374
    },
    "id": "f3abf72e",
    "outputId": "571f3b31-7962-4761-a61f-d14189336b9a"
   },
   "outputs": [
    {
     "data": {
      "image/png": "[encoded data removed]",
      "text/plain": [
       "<Figure size 432x288 with 2 Axes>"
      ]
     },
     "metadata": {
      "needs_background": "light"
     },
     "output_type": "display_data"
    }
   ],
   "source": [
    "#visualize the null values \n",
    "sns.heatmap(df.isnull())\n",
    "plt.show()"
   ]
  },
  {
   "cell_type": "code",
   "execution_count": 14,
   "id": "a6b9cec9",
   "metadata": {
    "colab": {
     "base_uri": "https://localhost:8080/"
    },
    "id": "a6b9cec9",
    "outputId": "1707ef16-4e32-4762-dbf2-31dc720ecd71"
   },
   "outputs": [
    {
     "data": {
      "text/plain": [
       "9"
      ]
     },
     "execution_count": 14,
     "metadata": {},
     "output_type": "execute_result"
    }
   ],
   "source": [
    "#chcek duplicate values\n",
    "df.duplicated().sum()"
   ]
  },
  {
   "cell_type": "code",
   "execution_count": 15,
   "id": "9a645d42",
   "metadata": {
    "id": "9a645d42"
   },
   "outputs": [],
   "source": [
    "#droping duplicate values\n",
    "df.drop_duplicates(inplace=True)"
   ]
  },
  {
   "cell_type": "code",
   "execution_count": 16,
   "id": "cd4b8d8b",
   "metadata": {
    "colab": {
     "base_uri": "https://localhost:8080/"
    },
    "id": "cd4b8d8b",
    "outputId": "50925566-6613-4a0d-b941-8c2acfea6db8"
   },
   "outputs": [
    {
     "data": {
      "text/plain": [
       "0"
      ]
     },
     "execution_count": 16,
     "metadata": {},
     "output_type": "execute_result"
    }
   ],
   "source": [
    "#chcek duplicate values again\n",
    "df.duplicated().sum()"
   ]
  },
  {
   "cell_type": "code",
   "execution_count": 17,
   "id": "25ebb195",
   "metadata": {
    "colab": {
     "base_uri": "https://localhost:8080/"
    },
    "id": "25ebb195",
    "outputId": "1835aa64-6efc-4c67-e41f-712378fce8f5"
   },
   "outputs": [
    {
     "data": {
      "text/plain": [
       "0    9582\n",
       "1    1991\n",
       "Name: quit, dtype: int64"
      ]
     },
     "execution_count": 17,
     "metadata": {},
     "output_type": "execute_result"
    }
   ],
   "source": [
    "#chcek if output is balanced or not\n",
    "df[\"quit\"].value_counts()"
   ]
  },
  {
   "cell_type": "code",
   "execution_count": 18,
   "id": "f435cc58",
   "metadata": {
    "colab": {
     "base_uri": "https://localhost:8080/",
     "height": 279
    },
    "id": "f435cc58",
    "outputId": "7310c727-b647-403a-875b-f5d0938ee6d5"
   },
   "outputs": [
    {
     "data": {
      "image/png": "[encoded data removed]",
      "text/plain": [
       "<Figure size 432x288 with 1 Axes>"
      ]
     },
     "metadata": {
      "needs_background": "light"
     },
     "output_type": "display_data"
    }
   ],
   "source": [
    "sns.countplot(data=df,x=\"quit\")\n",
    "f=df[\"quit\"].value_counts()\n",
    "plt.yticks(f)\n",
    "plt.show()"
   ]
  },
  {
   "cell_type": "code",
   "execution_count": 19,
   "id": "56de0f09",
   "metadata": {
    "colab": {
     "base_uri": "https://localhost:8080/"
    },
    "id": "56de0f09",
    "outputId": "145fb7d7-8618-45c9-e956-66284ef7dc1a"
   },
   "outputs": [
    {
     "data": {
      "text/plain": [
       "satisfaction_level       float64\n",
       "last_evaluation          float64\n",
       "number_project             int64\n",
       "average_montly_hours       int64\n",
       "time_spend_company         int64\n",
       "Work_accident              int64\n",
       "quit                       int64\n",
       "promotion_last_5years    float64\n",
       "department                object\n",
       "salary                    object\n",
       "dtype: object"
      ]
     },
     "execution_count": 19,
     "metadata": {},
     "output_type": "execute_result"
    }
   ],
   "source": [
    "df.dtypes"
   ]
  },
  {
   "cell_type": "code",
   "execution_count": 20,
   "id": "6942fb4e",
   "metadata": {
    "colab": {
     "base_uri": "https://localhost:8080/",
     "height": 206
    },
    "id": "6942fb4e",
    "outputId": "66378dc7-0191-4b3e-8d76-c777a4b37c0a"
   },
   "outputs": [
    {
     "data": {
      "text/html": [
       "<div>\n",
       "<style scoped>\n",
       "    .dataframe tbody tr th:only-of-type {\n",
       "        vertical-align: middle;\n",
       "    }\n",
       "\n",
       "    .dataframe tbody tr th {\n",
       "        vertical-align: top;\n",
       "    }\n",
       "\n",
       "    .dataframe thead th {\n",
       "        text-align: right;\n",
       "    }\n",
       "</style>\n",
       "<table border=\"1\" class=\"dataframe\">\n",
       "  <thead>\n",
       "    <tr style=\"text-align: right;\">\n",
       "      <th></th>\n",
       "      <th>number_project</th>\n",
       "      <th>average_montly_hours</th>\n",
       "      <th>time_spend_company</th>\n",
       "      <th>Work_accident</th>\n",
       "      <th>quit</th>\n",
       "    </tr>\n",
       "  </thead>\n",
       "  <tbody>\n",
       "    <tr>\n",
       "      <th>0</th>\n",
       "      <td>2</td>\n",
       "      <td>157</td>\n",
       "      <td>3</td>\n",
       "      <td>0</td>\n",
       "      <td>1</td>\n",
       "    </tr>\n",
       "    <tr>\n",
       "      <th>1</th>\n",
       "      <td>5</td>\n",
       "      <td>262</td>\n",
       "      <td>6</td>\n",
       "      <td>0</td>\n",
       "      <td>1</td>\n",
       "    </tr>\n",
       "    <tr>\n",
       "      <th>2</th>\n",
       "      <td>7</td>\n",
       "      <td>272</td>\n",
       "      <td>4</td>\n",
       "      <td>0</td>\n",
       "      <td>1</td>\n",
       "    </tr>\n",
       "    <tr>\n",
       "      <th>3</th>\n",
       "      <td>5</td>\n",
       "      <td>223</td>\n",
       "      <td>5</td>\n",
       "      <td>0</td>\n",
       "      <td>1</td>\n",
       "    </tr>\n",
       "    <tr>\n",
       "      <th>4</th>\n",
       "      <td>2</td>\n",
       "      <td>159</td>\n",
       "      <td>3</td>\n",
       "      <td>0</td>\n",
       "      <td>1</td>\n",
       "    </tr>\n",
       "  </tbody>\n",
       "</table>\n",
       "</div>"
      ],
      "text/plain": [
       "   number_project  average_montly_hours  time_spend_company  Work_accident  \\\n",
       "0               2                   157                   3              0   \n",
       "1               5                   262                   6              0   \n",
       "2               7                   272                   4              0   \n",
       "3               5                   223                   5              0   \n",
       "4               2                   159                   3              0   \n",
       "\n",
       "   quit  \n",
       "0     1  \n",
       "1     1  \n",
       "2     1  \n",
       "3     1  \n",
       "4     1  "
      ]
     },
     "execution_count": 20,
     "metadata": {},
     "output_type": "execute_result"
    }
   ],
   "source": [
    "#data is unbalanced \n",
    "#splitting the data \n",
    "df_cat=df.select_dtypes(object)\n",
    "df_num=df.select_dtypes(\"int64\",\"float64\")\n",
    "df_num.head()"
   ]
  },
  {
   "cell_type": "code",
   "execution_count": 21,
   "id": "309727ff",
   "metadata": {
    "id": "309727ff"
   },
   "outputs": [],
   "source": [
    "#apply LabelEncoder on df_cat\n",
    "from sklearn.preprocessing import LabelEncoder\n",
    "columns=df_cat.columns\n",
    "for col in columns:\n",
    "  #create object\n",
    "  le=LabelEncoder()\n",
    "  df_cat[col]=le.fit_transform(df_cat[col])"
   ]
  },
  {
   "cell_type": "code",
   "execution_count": 22,
   "id": "cb61d5d5",
   "metadata": {
    "colab": {
     "base_uri": "https://localhost:8080/",
     "height": 206
    },
    "id": "cb61d5d5",
    "outputId": "f557c13d-d9fe-44db-cbbd-4ee86e0ca6bb"
   },
   "outputs": [
    {
     "data": {
      "text/html": [
       "<div>\n",
       "<style scoped>\n",
       "    .dataframe tbody tr th:only-of-type {\n",
       "        vertical-align: middle;\n",
       "    }\n",
       "\n",
       "    .dataframe tbody tr th {\n",
       "        vertical-align: top;\n",
       "    }\n",
       "\n",
       "    .dataframe thead th {\n",
       "        text-align: right;\n",
       "    }\n",
       "</style>\n",
       "<table border=\"1\" class=\"dataframe\">\n",
       "  <thead>\n",
       "    <tr style=\"text-align: right;\">\n",
       "      <th></th>\n",
       "      <th>department</th>\n",
       "      <th>salary</th>\n",
       "    </tr>\n",
       "  </thead>\n",
       "  <tbody>\n",
       "    <tr>\n",
       "      <th>0</th>\n",
       "      <td>7</td>\n",
       "      <td>1</td>\n",
       "    </tr>\n",
       "    <tr>\n",
       "      <th>1</th>\n",
       "      <td>7</td>\n",
       "      <td>2</td>\n",
       "    </tr>\n",
       "    <tr>\n",
       "      <th>2</th>\n",
       "      <td>7</td>\n",
       "      <td>2</td>\n",
       "    </tr>\n",
       "    <tr>\n",
       "      <th>3</th>\n",
       "      <td>7</td>\n",
       "      <td>1</td>\n",
       "    </tr>\n",
       "    <tr>\n",
       "      <th>4</th>\n",
       "      <td>7</td>\n",
       "      <td>1</td>\n",
       "    </tr>\n",
       "  </tbody>\n",
       "</table>\n",
       "</div>"
      ],
      "text/plain": [
       "   department  salary\n",
       "0           7       1\n",
       "1           7       2\n",
       "2           7       2\n",
       "3           7       1\n",
       "4           7       1"
      ]
     },
     "execution_count": 22,
     "metadata": {},
     "output_type": "execute_result"
    }
   ],
   "source": [
    "df_cat.head()"
   ]
  },
  {
   "cell_type": "code",
   "execution_count": 23,
   "id": "44d6bdf6",
   "metadata": {
    "colab": {
     "base_uri": "https://localhost:8080/",
     "height": 206
    },
    "id": "44d6bdf6",
    "outputId": "856d6937-af2f-42c7-c16d-38905646e0c7"
   },
   "outputs": [
    {
     "data": {
      "text/html": [
       "<div>\n",
       "<style scoped>\n",
       "    .dataframe tbody tr th:only-of-type {\n",
       "        vertical-align: middle;\n",
       "    }\n",
       "\n",
       "    .dataframe tbody tr th {\n",
       "        vertical-align: top;\n",
       "    }\n",
       "\n",
       "    .dataframe thead th {\n",
       "        text-align: right;\n",
       "    }\n",
       "</style>\n",
       "<table border=\"1\" class=\"dataframe\">\n",
       "  <thead>\n",
       "    <tr style=\"text-align: right;\">\n",
       "      <th></th>\n",
       "      <th>number_project</th>\n",
       "      <th>average_montly_hours</th>\n",
       "      <th>time_spend_company</th>\n",
       "      <th>Work_accident</th>\n",
       "      <th>quit</th>\n",
       "      <th>department</th>\n",
       "      <th>salary</th>\n",
       "    </tr>\n",
       "  </thead>\n",
       "  <tbody>\n",
       "    <tr>\n",
       "      <th>0</th>\n",
       "      <td>2</td>\n",
       "      <td>157</td>\n",
       "      <td>3</td>\n",
       "      <td>0</td>\n",
       "      <td>1</td>\n",
       "      <td>7</td>\n",
       "      <td>1</td>\n",
       "    </tr>\n",
       "    <tr>\n",
       "      <th>1</th>\n",
       "      <td>5</td>\n",
       "      <td>262</td>\n",
       "      <td>6</td>\n",
       "      <td>0</td>\n",
       "      <td>1</td>\n",
       "      <td>7</td>\n",
       "      <td>2</td>\n",
       "    </tr>\n",
       "    <tr>\n",
       "      <th>2</th>\n",
       "      <td>7</td>\n",
       "      <td>272</td>\n",
       "      <td>4</td>\n",
       "      <td>0</td>\n",
       "      <td>1</td>\n",
       "      <td>7</td>\n",
       "      <td>2</td>\n",
       "    </tr>\n",
       "    <tr>\n",
       "      <th>3</th>\n",
       "      <td>5</td>\n",
       "      <td>223</td>\n",
       "      <td>5</td>\n",
       "      <td>0</td>\n",
       "      <td>1</td>\n",
       "      <td>7</td>\n",
       "      <td>1</td>\n",
       "    </tr>\n",
       "    <tr>\n",
       "      <th>4</th>\n",
       "      <td>2</td>\n",
       "      <td>159</td>\n",
       "      <td>3</td>\n",
       "      <td>0</td>\n",
       "      <td>1</td>\n",
       "      <td>7</td>\n",
       "      <td>1</td>\n",
       "    </tr>\n",
       "  </tbody>\n",
       "</table>\n",
       "</div>"
      ],
      "text/plain": [
       "   number_project  average_montly_hours  time_spend_company  Work_accident  \\\n",
       "0               2                   157                   3              0   \n",
       "1               5                   262                   6              0   \n",
       "2               7                   272                   4              0   \n",
       "3               5                   223                   5              0   \n",
       "4               2                   159                   3              0   \n",
       "\n",
       "   quit  department  salary  \n",
       "0     1           7       1  \n",
       "1     1           7       2  \n",
       "2     1           7       2  \n",
       "3     1           7       1  \n",
       "4     1           7       1  "
      ]
     },
     "execution_count": 23,
     "metadata": {},
     "output_type": "execute_result"
    }
   ],
   "source": [
    "#concatenate df_cat and df_num\n",
    "df_new=pd.concat([df_num,df_cat],axis=1)\n",
    "df_new.head()"
   ]
  },
  {
   "cell_type": "code",
   "execution_count": 24,
   "id": "b0a93b5c",
   "metadata": {
    "id": "b0a93b5c"
   },
   "outputs": [],
   "source": [
    "#splitting input and output\n",
    "x=df_new.drop(\"quit\",axis=1)\n",
    "y=df[\"quit\"]"
   ]
  },
  {
   "cell_type": "code",
   "execution_count": 25,
   "id": "a59e1513",
   "metadata": {
    "id": "a59e1513"
   },
   "outputs": [],
   "source": [
    "#train test split\n",
    "from sklearn.model_selection import train_test_split\n",
    "x_train,x_test,y_train,y_test=train_test_split(x,y,test_size=0.3,random_state=1)"
   ]
  },
  {
   "cell_type": "code",
   "execution_count": 26,
   "id": "753e5f76",
   "metadata": {
    "colab": {
     "base_uri": "https://localhost:8080/"
    },
    "id": "753e5f76",
    "outputId": "a073539c-4a47-4941-b85b-d6d9756bbfdc"
   },
   "outputs": [
    {
     "data": {
      "text/plain": [
       "((8101, 6), (3472, 6), (8101,), (3472,))"
      ]
     },
     "execution_count": 26,
     "metadata": {},
     "output_type": "execute_result"
    }
   ],
   "source": [
    "x_train.shape,x_test.shape,y_train.shape,y_test.shape"
   ]
  },
  {
   "cell_type": "code",
   "execution_count": 27,
   "id": "53a8d7c9",
   "metadata": {
    "id": "53a8d7c9"
   },
   "outputs": [],
   "source": [
    "#first RandomOverSampler\n",
    "from imblearn.over_sampling import RandomOverSampler"
   ]
  },
  {
   "cell_type": "code",
   "execution_count": 28,
   "id": "f9ae0e89",
   "metadata": {
    "id": "f9ae0e89"
   },
   "outputs": [],
   "source": [
    "#from sklearn.preprocessing import StandardScaler\n",
    "#creating object for StandardScaler class\n",
    "from sklearn.preprocessing import StandardScaler\n",
    "ss=StandardScaler()\n",
    "x_train=ss.fit_transform(x_train)\n",
    "x_test=ss.transform(x_test)"
   ]
  },
  {
   "cell_type": "code",
   "execution_count": 29,
   "id": "6uRJ3QwhB2OP",
   "metadata": {
    "id": "6uRJ3QwhB2OP"
   },
   "outputs": [],
   "source": [
    "#to convert minority class into majority class\n",
    "#use RandomOverSampler\n",
    "ros=RandomOverSampler(random_state=1)"
   ]
  },
  {
   "cell_type": "code",
   "execution_count": 30,
   "id": "aoQlKztkB6Lt",
   "metadata": {
    "id": "aoQlKztkB6Lt"
   },
   "outputs": [],
   "source": [
    "#apply oversampler on training data\n",
    "x_trainros,y_trainros=ros.fit_resample(x_train,y_train)"
   ]
  },
  {
   "cell_type": "code",
   "execution_count": 31,
   "id": "UD4zjI9xB8Gl",
   "metadata": {
    "colab": {
     "base_uri": "https://localhost:8080/"
    },
    "id": "UD4zjI9xB8Gl",
    "outputId": "ec8e71c7-c4af-4f34-babe-efca47196028"
   },
   "outputs": [
    {
     "data": {
      "text/plain": [
       "1    6738\n",
       "0    6738\n",
       "Name: quit, dtype: int64"
      ]
     },
     "execution_count": 31,
     "metadata": {},
     "output_type": "execute_result"
    }
   ],
   "source": [
    "y_trainros.value_counts()"
   ]
  },
  {
   "cell_type": "code",
   "execution_count": 32,
   "id": "yfoMfyi2B_Br",
   "metadata": {
    "colab": {
     "base_uri": "https://localhost:8080/"
    },
    "id": "yfoMfyi2B_Br",
    "outputId": "78e36f76-7493-44af-c480-173175453457"
   },
   "outputs": [
    {
     "data": {
      "text/plain": [
       "((13476, 6), (13476,))"
      ]
     },
     "execution_count": 32,
     "metadata": {},
     "output_type": "execute_result"
    }
   ],
   "source": [
    "x_trainros.shape,y_trainros.shape"
   ]
  },
  {
   "cell_type": "code",
   "execution_count": 33,
   "id": "rvWuz9lEDODU",
   "metadata": {
    "id": "rvWuz9lEDODU"
   },
   "outputs": [],
   "source": [
    "#also apply oversampler on testing data\n",
    "x_testros,y_testros=ros.fit_resample(x_test,y_test)"
   ]
  },
  {
   "cell_type": "code",
   "execution_count": 34,
   "id": "YJXlJCD-DvJt",
   "metadata": {
    "id": "YJXlJCD-DvJt"
   },
   "outputs": [],
   "source": [
    "#apply logistic algorithm"
   ]
  },
  {
   "cell_type": "code",
   "execution_count": 35,
   "id": "KWgPkxEfCDNm",
   "metadata": {
    "id": "KWgPkxEfCDNm"
   },
   "outputs": [],
   "source": [
    "#import LogisticRagresion\n",
    "from sklearn.linear_model import LogisticRegression\n",
    "lr=LogisticRegression()"
   ]
  },
  {
   "cell_type": "code",
   "execution_count": 36,
   "id": "Z0TwDpbMCVds",
   "metadata": {
    "colab": {
     "base_uri": "https://localhost:8080/"
    },
    "id": "Z0TwDpbMCVds",
    "outputId": "e968371b-1fb4-413c-a241-47f228b7efd4"
   },
   "outputs": [
    {
     "name": "stdout",
     "output_type": "stream",
     "text": [
      "              precision    recall  f1-score   support\n",
      "\n",
      "           0       0.81      0.71      0.76      2844\n",
      "           1       0.74      0.84      0.79      2844\n",
      "\n",
      "    accuracy                           0.77      5688\n",
      "   macro avg       0.78      0.77      0.77      5688\n",
      "weighted avg       0.78      0.77      0.77      5688\n",
      "\n",
      "[[2017  827]\n",
      " [ 459 2385]]\n"
     ]
    }
   ],
   "source": [
    "#create function\n",
    "def create_model(model):\n",
    "    #train the model with70% data\n",
    "    model.fit(x_trainros,y_trainros)\n",
    "    #test the model with 30% data\n",
    "    y_pred=model.predict(x_testros)\n",
    "    #genrate the report\n",
    "    print(classification_report(y_testros,y_pred))\n",
    "    print(confusion_matrix(y_testros,y_pred))\n",
    "    return model\n",
    "\n",
    "#import libraries\n",
    "from sklearn.metrics import classification_report,confusion_matrix\n",
    "#call the function\n",
    "lr=create_model(lr)"
   ]
  },
  {
   "cell_type": "code",
   "execution_count": 37,
   "id": "f433e73c",
   "metadata": {},
   "outputs": [],
   "source": [
    "#conclusion: here logistic regression gives score of 1 & 0 as 0.84 & 0.71 respectively"
   ]
  },
  {
   "cell_type": "code",
   "execution_count": 38,
   "id": "5rZXPTZWC0_2",
   "metadata": {
    "id": "5rZXPTZWC0_2"
   },
   "outputs": [],
   "source": [
    "#now applying decision tree aglorithm for gini index\n",
    "#perform DecisionTreeClassifier\n",
    "from sklearn.tree import DecisionTreeClassifier\n",
    "#to create an object\n",
    "dt=DecisionTreeClassifier(random_state=1) #by default gini index method"
   ]
  },
  {
   "cell_type": "code",
   "execution_count": 39,
   "id": "geJhQcRjEAnk",
   "metadata": {
    "colab": {
     "base_uri": "https://localhost:8080/"
    },
    "id": "geJhQcRjEAnk",
    "outputId": "a9e60cf2-d329-4cf2-c0b1-d887fbabc878"
   },
   "outputs": [
    {
     "name": "stdout",
     "output_type": "stream",
     "text": [
      "              precision    recall  f1-score   support\n",
      "\n",
      "           0       0.84      0.96      0.89      2844\n",
      "           1       0.95      0.81      0.88      2844\n",
      "\n",
      "    accuracy                           0.89      5688\n",
      "   macro avg       0.90      0.89      0.89      5688\n",
      "weighted avg       0.90      0.89      0.89      5688\n",
      "\n",
      "[[2730  114]\n",
      " [ 529 2315]]\n"
     ]
    }
   ],
   "source": [
    "#call the function \n",
    "dt=create_model(dt)"
   ]
  },
  {
   "cell_type": "code",
   "execution_count": 40,
   "id": "tryzFPGMEDY2",
   "metadata": {
    "colab": {
     "base_uri": "https://localhost:8080/"
    },
    "id": "tryzFPGMEDY2",
    "outputId": "6afa82c0-2e45-40dc-cfef-348c58d679af"
   },
   "outputs": [
    {
     "data": {
      "text/plain": [
       "array([0.24575817, 0.31915415, 0.37678333, 0.0038714 , 0.03188415,\n",
       "       0.0225488 ])"
      ]
     },
     "execution_count": 40,
     "metadata": {},
     "output_type": "execute_result"
    }
   ],
   "source": [
    "#to see imp features ,menas IG of each input \n",
    "dt.feature_importances_"
   ]
  },
  {
   "cell_type": "code",
   "execution_count": 41,
   "id": "lExkIT44EHZ6",
   "metadata": {
    "colab": {
     "base_uri": "https://localhost:8080/",
     "height": 237
    },
    "id": "lExkIT44EHZ6",
    "outputId": "5dbfbade-f894-4f33-d8d4-d3626fa6c575"
   },
   "outputs": [
    {
     "data": {
      "text/html": [
       "<div>\n",
       "<style scoped>\n",
       "    .dataframe tbody tr th:only-of-type {\n",
       "        vertical-align: middle;\n",
       "    }\n",
       "\n",
       "    .dataframe tbody tr th {\n",
       "        vertical-align: top;\n",
       "    }\n",
       "\n",
       "    .dataframe thead th {\n",
       "        text-align: right;\n",
       "    }\n",
       "</style>\n",
       "<table border=\"1\" class=\"dataframe\">\n",
       "  <thead>\n",
       "    <tr style=\"text-align: right;\">\n",
       "      <th></th>\n",
       "      <th>Input</th>\n",
       "      <th>IG</th>\n",
       "    </tr>\n",
       "  </thead>\n",
       "  <tbody>\n",
       "    <tr>\n",
       "      <th>0</th>\n",
       "      <td>number_project</td>\n",
       "      <td>0.245758</td>\n",
       "    </tr>\n",
       "    <tr>\n",
       "      <th>1</th>\n",
       "      <td>average_montly_hours</td>\n",
       "      <td>0.319154</td>\n",
       "    </tr>\n",
       "    <tr>\n",
       "      <th>2</th>\n",
       "      <td>time_spend_company</td>\n",
       "      <td>0.376783</td>\n",
       "    </tr>\n",
       "    <tr>\n",
       "      <th>3</th>\n",
       "      <td>Work_accident</td>\n",
       "      <td>0.003871</td>\n",
       "    </tr>\n",
       "    <tr>\n",
       "      <th>4</th>\n",
       "      <td>department</td>\n",
       "      <td>0.031884</td>\n",
       "    </tr>\n",
       "    <tr>\n",
       "      <th>5</th>\n",
       "      <td>salary</td>\n",
       "      <td>0.022549</td>\n",
       "    </tr>\n",
       "  </tbody>\n",
       "</table>\n",
       "</div>"
      ],
      "text/plain": [
       "                  Input        IG\n",
       "0        number_project  0.245758\n",
       "1  average_montly_hours  0.319154\n",
       "2    time_spend_company  0.376783\n",
       "3         Work_accident  0.003871\n",
       "4            department  0.031884\n",
       "5                salary  0.022549"
      ]
     },
     "execution_count": 41,
     "metadata": {},
     "output_type": "execute_result"
    }
   ],
   "source": [
    "dict={'Input':x.columns,'IG':dt.feature_importances_}\n",
    "df1=pd.DataFrame(dict)\n",
    "df1"
   ]
  },
  {
   "cell_type": "code",
   "execution_count": 42,
   "id": "rx7WJu0uELUV",
   "metadata": {
    "colab": {
     "base_uri": "https://localhost:8080/",
     "height": 237
    },
    "id": "rx7WJu0uELUV",
    "outputId": "8eec8f7f-8830-4ff1-ec5c-16d76361cd8a"
   },
   "outputs": [
    {
     "data": {
      "text/html": [
       "<div>\n",
       "<style scoped>\n",
       "    .dataframe tbody tr th:only-of-type {\n",
       "        vertical-align: middle;\n",
       "    }\n",
       "\n",
       "    .dataframe tbody tr th {\n",
       "        vertical-align: top;\n",
       "    }\n",
       "\n",
       "    .dataframe thead th {\n",
       "        text-align: right;\n",
       "    }\n",
       "</style>\n",
       "<table border=\"1\" class=\"dataframe\">\n",
       "  <thead>\n",
       "    <tr style=\"text-align: right;\">\n",
       "      <th></th>\n",
       "      <th>Input</th>\n",
       "      <th>IG</th>\n",
       "    </tr>\n",
       "  </thead>\n",
       "  <tbody>\n",
       "    <tr>\n",
       "      <th>0</th>\n",
       "      <td>time_spend_company</td>\n",
       "      <td>0.376783</td>\n",
       "    </tr>\n",
       "    <tr>\n",
       "      <th>1</th>\n",
       "      <td>average_montly_hours</td>\n",
       "      <td>0.319154</td>\n",
       "    </tr>\n",
       "    <tr>\n",
       "      <th>2</th>\n",
       "      <td>number_project</td>\n",
       "      <td>0.245758</td>\n",
       "    </tr>\n",
       "    <tr>\n",
       "      <th>3</th>\n",
       "      <td>department</td>\n",
       "      <td>0.031884</td>\n",
       "    </tr>\n",
       "    <tr>\n",
       "      <th>4</th>\n",
       "      <td>salary</td>\n",
       "      <td>0.022549</td>\n",
       "    </tr>\n",
       "    <tr>\n",
       "      <th>5</th>\n",
       "      <td>Work_accident</td>\n",
       "      <td>0.003871</td>\n",
       "    </tr>\n",
       "  </tbody>\n",
       "</table>\n",
       "</div>"
      ],
      "text/plain": [
       "                  Input        IG\n",
       "0    time_spend_company  0.376783\n",
       "1  average_montly_hours  0.319154\n",
       "2        number_project  0.245758\n",
       "3            department  0.031884\n",
       "4                salary  0.022549\n",
       "5         Work_accident  0.003871"
      ]
     },
     "execution_count": 42,
     "metadata": {},
     "output_type": "execute_result"
    }
   ],
   "source": [
    "#to arrange records in desc -> highest to lowest \n",
    "df9=df1.sort_values('IG',ascending=False,ignore_index=True)\n",
    "df9"
   ]
  },
  {
   "cell_type": "code",
   "execution_count": 43,
   "id": "sJog5QGCEP08",
   "metadata": {
    "id": "sJog5QGCEP08"
   },
   "outputs": [],
   "source": [
    "#1. max_depth parameter "
   ]
  },
  {
   "cell_type": "code",
   "execution_count": 44,
   "id": "ofKoXDVBEXnZ",
   "metadata": {
    "colab": {
     "base_uri": "https://localhost:8080/"
    },
    "id": "ofKoXDVBEXnZ",
    "outputId": "e61ecde0-c6b0-4150-b620-856dba462ba1"
   },
   "outputs": [
    {
     "name": "stdout",
     "output_type": "stream",
     "text": [
      "              precision    recall  f1-score   support\n",
      "\n",
      "           0       0.94      0.91      0.92      2844\n",
      "           1       0.91      0.94      0.92      2844\n",
      "\n",
      "    accuracy                           0.92      5688\n",
      "   macro avg       0.92      0.92      0.92      5688\n",
      "weighted avg       0.92      0.92      0.92      5688\n",
      "\n",
      "[[2581  263]\n",
      " [ 176 2668]]\n"
     ]
    }
   ],
   "source": [
    "#apply pruning technique for DTC using entropy\n",
    "#max_depth<=8\n",
    "'''\n",
    "for i in range(1,9):\n",
    "    dt=DecisionTreeClassifier(random_state=1,max_depth=i)\n",
    "    print(\"max_depth0:\",i)\n",
    "    #call the function\n",
    "    dt=create_model(dt)\n",
    "'''\n",
    "dt1=DecisionTreeClassifier(random_state=1,max_depth=4)\n",
    "# call function\n",
    "dt1=create_model(dt1)\n",
    "\n"
   ]
  },
  {
   "cell_type": "code",
   "execution_count": 45,
   "id": "ghmINcEnFEn2",
   "metadata": {
    "colab": {
     "base_uri": "https://localhost:8080/"
    },
    "id": "ghmINcEnFEn2",
    "outputId": "ee3e15b8-570f-4be5-a833-a5eaf1414c2e"
   },
   "outputs": [
    {
     "name": "stdout",
     "output_type": "stream",
     "text": [
      "              precision    recall  f1-score   support\n",
      "\n",
      "           0       0.93      0.94      0.94      2844\n",
      "           1       0.94      0.93      0.93      2844\n",
      "\n",
      "    accuracy                           0.93      5688\n",
      "   macro avg       0.93      0.93      0.93      5688\n",
      "weighted avg       0.93      0.93      0.93      5688\n",
      "\n",
      "[[2667  177]\n",
      " [ 193 2651]]\n"
     ]
    }
   ],
   "source": [
    "#1. min_samples\n",
    "#create object of DecisionTreeClassifier class and pass the arguments\n",
    "'''\n",
    "for i in range(45,101):\n",
    "    dt2=DecisionTreeClassifier(random_state=1,min_samples_leaf=i)\n",
    "    print(\"min samples leaf:\",i)\n",
    "    #call the function \n",
    "    dt2=create_model(dt2)\n",
    "'''\n",
    "dt2=DecisionTreeClassifier(random_state=1,min_samples_leaf=45)\n",
    "#call the function \n",
    "dt2=create_model(dt2)\n"
   ]
  },
  {
   "cell_type": "code",
   "execution_count": 46,
   "id": "5Gi7HWmzHIni",
   "metadata": {
    "id": "5Gi7HWmzHIni"
   },
   "outputs": [],
   "source": [
    "#conclusion : \n",
    "#Decision Tree Classifier with GINI Index : 1 is 0.81 and 0 is 0.96\n",
    "#applied Pruning Tech : 1. max_depth with GINI INDEX then got \n",
    "#Accurancy  1 is 0.94   and 0 is 0.91  and max_depth=4\n",
    "#but applied pruning tech. 2. min_samples_leaf with GINI INDEX then got \n",
    "#Accurancy  1: 0.93   and 0 : 0.94  and min_samples_leaf=45"
   ]
  },
  {
   "cell_type": "code",
   "execution_count": 47,
   "id": "a9XjwSqIFq3n",
   "metadata": {
    "colab": {
     "base_uri": "https://localhost:8080/",
     "height": 54
    },
    "id": "a9XjwSqIFq3n",
    "outputId": "fc3bda8c-688e-4932-affc-017e9c73f63e"
   },
   "outputs": [
    {
     "data": {
      "text/plain": [
       "'\\nfrom sklearn import tree\\n\\n# Inputs are in columns\\nfeatures=x.columns\\nplt.figure(figsize=(10,10))\\n_=tree.plot_tree(dt2,feature_names=features,filled=True)\\n'"
      ]
     },
     "execution_count": 47,
     "metadata": {},
     "output_type": "execute_result"
    }
   ],
   "source": [
    "# create a tree again\n",
    "'''\n",
    "from sklearn import tree\n",
    "\n",
    "# Inputs are in columns\n",
    "features=x.columns\n",
    "plt.figure(figsize=(10,10))\n",
    "_=tree.plot_tree(dt2,feature_names=features,filled=True)\n",
    "'''\n"
   ]
  },
  {
   "cell_type": "code",
   "execution_count": 48,
   "id": "9Frp-T9eHBvv",
   "metadata": {
    "colab": {
     "base_uri": "https://localhost:8080/"
    },
    "id": "9Frp-T9eHBvv",
    "outputId": "aeec319f-3588-44e2-b3ab-7a9bdb2d0143"
   },
   "outputs": [
    {
     "name": "stdout",
     "output_type": "stream",
     "text": [
      "              precision    recall  f1-score   support\n",
      "\n",
      "           0       0.84      0.96      0.90      2844\n",
      "           1       0.96      0.82      0.88      2844\n",
      "\n",
      "    accuracy                           0.89      5688\n",
      "   macro avg       0.90      0.89      0.89      5688\n",
      "weighted avg       0.90      0.89      0.89      5688\n",
      "\n",
      "[[2735  109]\n",
      " [ 517 2327]]\n"
     ]
    }
   ],
   "source": [
    "#apply decision tree aglorithm for entropy index\n",
    "#first create object for DecisionTreeClassifier class and \n",
    "#passing the parameter criterion =\"entropy\" by deafalut criterion=\"gini index\" if didn't give\n",
    "dt=DecisionTreeClassifier(random_state=1,criterion=\"entropy\")\n",
    "#not apply pruning technique\n",
    "\n",
    "#call the function \n",
    "dt=create_model(dt)"
   ]
  },
  {
   "cell_type": "code",
   "execution_count": 49,
   "id": "uRag0yDhIpwz",
   "metadata": {
    "colab": {
     "base_uri": "https://localhost:8080/"
    },
    "id": "uRag0yDhIpwz",
    "outputId": "375e613a-89d3-4c47-9a6c-8acfffed5d9c"
   },
   "outputs": [
    {
     "name": "stdout",
     "output_type": "stream",
     "text": [
      "              precision    recall  f1-score   support\n",
      "\n",
      "           0       0.94      0.91      0.92      2844\n",
      "           1       0.91      0.94      0.93      2844\n",
      "\n",
      "    accuracy                           0.92      5688\n",
      "   macro avg       0.92      0.92      0.92      5688\n",
      "weighted avg       0.92      0.92      0.92      5688\n",
      "\n",
      "[[2589  255]\n",
      " [ 176 2668]]\n"
     ]
    }
   ],
   "source": [
    "#apply pruning technique for DTC using entropy\n",
    "#max_depth<=8\n",
    "'''\n",
    "for i in range(1,9):\n",
    "    dt=DecisionTreeClassifier(random_state=1,criterion=\"entropy\",max_depth=i)\n",
    "    print(\"max_depth0:\",i)\n",
    "    #call the function\n",
    "    dt=create_model(dt)\n",
    "'''\n",
    "\n",
    "dt=DecisionTreeClassifier(random_state=1,criterion=\"entropy\",max_depth=4)\n",
    "#call the function\n",
    "dt=create_model(dt)"
   ]
  },
  {
   "cell_type": "code",
   "execution_count": 50,
   "id": "7A7B0CkbI6Bs",
   "metadata": {
    "colab": {
     "base_uri": "https://localhost:8080/"
    },
    "id": "7A7B0CkbI6Bs",
    "outputId": "577a1e1a-3426-4dff-8441-b5c3bdcdb991"
   },
   "outputs": [
    {
     "name": "stdout",
     "output_type": "stream",
     "text": [
      "              precision    recall  f1-score   support\n",
      "\n",
      "           0       0.92      0.95      0.93      2844\n",
      "           1       0.94      0.92      0.93      2844\n",
      "\n",
      "    accuracy                           0.93      5688\n",
      "   macro avg       0.93      0.93      0.93      5688\n",
      "weighted avg       0.93      0.93      0.93      5688\n",
      "\n",
      "[[2690  154]\n",
      " [ 226 2618]]\n"
     ]
    }
   ],
   "source": [
    "#apply 2nd pruning technique min_samples_leaf\n",
    "'''\n",
    "for i in range(45,101):\n",
    "    dt=DecisionTreeClassifier(random_state=1,criterion=\"entropy\",min_samples_leaf=i)\n",
    "    print(\"min_samples_leaf:\",i)\n",
    "    #call the function\n",
    "    dt=create_model(dt)\n",
    "'''\n",
    "dt=DecisionTreeClassifier(random_state=1,criterion=\"entropy\",min_samples_leaf=45)\n",
    "#call the function\n",
    "dt=create_model(dt)"
   ]
  },
  {
   "cell_type": "code",
   "execution_count": 51,
   "id": "GVwvBwcmJmls",
   "metadata": {
    "id": "GVwvBwcmJmls"
   },
   "outputs": [],
   "source": [
    "#conclusion : \n",
    "#Decision Tree Classifier with entropy Index :   1-0.82 and 0 - 0.96\n",
    "#applied Pruning Tech : 1. max_depth with entropy then got \n",
    "#Accurancy  1: 0.94   and 0 : 0.91  and max_depth=4\n",
    "#but applied pruning tech. 2. min_samples_leaf with entropy then got \n",
    "#Accurancy  1: 0.92   and 0 : 0.95  and min_samples_leaf=45\n"
   ]
  },
  {
   "cell_type": "code",
   "execution_count": 52,
   "id": "87DMcZI84CzU",
   "metadata": {
    "colab": {
     "base_uri": "https://localhost:8080/"
    },
    "id": "87DMcZI84CzU",
    "outputId": "1ea17b09-2d39-42ee-e923-4ee453200b50"
   },
   "outputs": [
    {
     "data": {
      "text/plain": [
       "(11573, 6)"
      ]
     },
     "execution_count": 52,
     "metadata": {},
     "output_type": "execute_result"
    }
   ],
   "source": [
    "#checking features\n",
    "x.shape"
   ]
  },
  {
   "cell_type": "code",
   "execution_count": 53,
   "id": "evIDk7cR3xaQ",
   "metadata": {
    "colab": {
     "base_uri": "https://localhost:8080/",
     "height": 273
    },
    "id": "evIDk7cR3xaQ",
    "outputId": "6a6904f0-e4a5-4caa-fc21-c60aba9aa2b7"
   },
   "outputs": [
    {
     "name": "stdout",
     "output_type": "stream",
     "text": [
      "              precision    recall  f1-score   support\n",
      "\n",
      "           0       0.87      0.97      0.92      2844\n",
      "           1       0.96      0.86      0.91      2844\n",
      "\n",
      "    accuracy                           0.91      5688\n",
      "   macro avg       0.92      0.91      0.91      5688\n",
      "weighted avg       0.92      0.91      0.91      5688\n",
      "\n",
      "[[2753   91]\n",
      " [ 406 2438]]\n"
     ]
    }
   ],
   "source": [
    "#ENSEMBLING TECHNIQUE: RANDOM FOREST TREE\n",
    "#call random forest tree from package use gini index\n",
    "from sklearn.ensemble import RandomForestClassifier\n",
    "\"\"\"\n",
    "for i in range(6,0,-1):\n",
    "    #create object for RandomForestClassifier class\n",
    "    rfc=RandomForestClassifier(n_estimators=10,max_features=i,random_state=1)\n",
    "    print(\"no of features:\",i)\n",
    "    #call the function\n",
    "    rfc=create_model(rfc)\n",
    "\"\"\"\n",
    "#create a object of RandomForestClassifier class()\n",
    "rfc=RandomForestClassifier(n_estimators=10,max_features=3,random_state=1)\n",
    "#estimators means how many decisiontreeclassifiers min=10 ,max=100\n",
    "#max_features means take how many inputs\n",
    "#bydefalut it took GINI INDEX\n",
    "\n",
    "#call the function    \n",
    "rfc=create_model(rfc)"
   ]
  },
  {
   "cell_type": "code",
   "execution_count": 54,
   "id": "ZOvHpapZ4IU3",
   "metadata": {
    "colab": {
     "base_uri": "https://localhost:8080/"
    },
    "id": "ZOvHpapZ4IU3",
    "outputId": "031a293f-f4a3-42bc-cdc2-e56a5122e0f1"
   },
   "outputs": [
    {
     "name": "stdout",
     "output_type": "stream",
     "text": [
      "              precision    recall  f1-score   support\n",
      "\n",
      "           0       0.87      0.97      0.92      2844\n",
      "           1       0.97      0.86      0.91      2844\n",
      "\n",
      "    accuracy                           0.91      5688\n",
      "   macro avg       0.92      0.91      0.91      5688\n",
      "weighted avg       0.92      0.91      0.91      5688\n",
      "\n",
      "[[2757   87]\n",
      " [ 412 2432]]\n"
     ]
    }
   ],
   "source": [
    "# use entropy\n",
    "\"\"\"\n",
    "for i in range(6,0,-1):\n",
    "    #create object for RandomForestClassifier class\n",
    "    rfc=RandomForestClassifier(n_estimators=10,max_features=i,random_state=1,criterion=\"entropy\")\n",
    "    print(\"no of features:\",i)\n",
    "    #call the function\n",
    "    rfc=create_model(rfc)\n",
    "\"\"\"\n",
    "\n",
    "rfc=RandomForestClassifier(n_estimators=10,max_features=2,random_state=1,criterion=\"entropy\")\n",
    "#call the function\n",
    "rfc=create_model(rfc)"
   ]
  },
  {
   "cell_type": "code",
   "execution_count": 55,
   "id": "JyfevlNH5Ryz",
   "metadata": {
    "id": "JyfevlNH5Ryz"
   },
   "outputs": [],
   "source": [
    "#random forest  with gini Index :   1-0.86 and 0 - 0.97 fe=3\n",
    "# random forest with entropy Index :   1-0.86 and 0 - 0.97 fe=2\n",
    "#best method randomforesttree(entropy):features=2 (86%) for 1"
   ]
  },
  {
   "cell_type": "code",
   "execution_count": 56,
   "id": "3xsaOiri6N5S",
   "metadata": {
    "id": "3xsaOiri6N5S"
   },
   "outputs": [],
   "source": [
    "#USE BOOSTING TECHNIQUE:\n",
    "#apply ADA bost on given dataset\n",
    "from sklearn.ensemble import AdaBoostClassifier"
   ]
  },
  {
   "cell_type": "code",
   "execution_count": 57,
   "id": "CY3xO7jq6UHw",
   "metadata": {
    "colab": {
     "base_uri": "https://localhost:8080/",
     "height": 273
    },
    "id": "CY3xO7jq6UHw",
    "outputId": "78c70371-1592-4217-d6cd-120599bc0ff8"
   },
   "outputs": [
    {
     "name": "stdout",
     "output_type": "stream",
     "text": [
      "              precision    recall  f1-score   support\n",
      "\n",
      "           0       0.92      0.81      0.86      2844\n",
      "           1       0.83      0.93      0.88      2844\n",
      "\n",
      "    accuracy                           0.87      5688\n",
      "   macro avg       0.87      0.87      0.87      5688\n",
      "weighted avg       0.87      0.87      0.87      5688\n",
      "\n",
      "[[2307  537]\n",
      " [ 213 2631]]\n"
     ]
    }
   ],
   "source": [
    "\"\"\"\n",
    "for i in range(1,7):\n",
    "    #create object for RandomForestClassifier class\n",
    "    ada=AdaBoostClassifier(n_estimators=i,random_state=1)\n",
    "    print(\"no of descision stump:\",i)\n",
    "    #call the function\n",
    "    ada=create_model(ada)\n",
    "\"\"\"\n",
    "#create the object AdaBoostClassifier class#by deafalut gini index\n",
    "ada=AdaBoostClassifier(n_estimators=5,random_state=1)\n",
    "#call the function\n",
    "ada=create_model(ada)\n",
    "#n_estimators means no. of decision stump can be <=100_estimators can be <=100\n"
   ]
  },
  {
   "cell_type": "code",
   "execution_count": 58,
   "id": "B9YMkKhS7-Be",
   "metadata": {
    "id": "B9YMkKhS7-Be"
   },
   "outputs": [],
   "source": [
    "#conclusion :#adaboosting  recall score :   1-0.93 and 0 - 0.81 on decision stump:5"
   ]
  },
  {
   "cell_type": "code",
   "execution_count": 59,
   "id": "hsrgQMXG6ZGv",
   "metadata": {
    "colab": {
     "base_uri": "https://localhost:8080/",
     "height": 273
    },
    "id": "hsrgQMXG6ZGv",
    "outputId": "4017c9ee-a4a7-4c1a-dc41-f5111e803fac"
   },
   "outputs": [
    {
     "name": "stdout",
     "output_type": "stream",
     "text": [
      "              precision    recall  f1-score   support\n",
      "\n",
      "           0       0.94      0.88      0.91      2844\n",
      "           1       0.88      0.95      0.91      2844\n",
      "\n",
      "    accuracy                           0.91      5688\n",
      "   macro avg       0.91      0.91      0.91      5688\n",
      "weighted avg       0.91      0.91      0.91      5688\n",
      "\n",
      "[[2494  350]\n",
      " [ 155 2689]]\n"
     ]
    }
   ],
   "source": [
    "#Gradient Boosting :\n",
    "#apply gradient Boost technuique on bank dataset\n",
    "from sklearn.ensemble import GradientBoostingClassifier\n",
    "'''\n",
    "for i in range(10,101):\n",
    "    #create object for RandomForestClassifier class\n",
    "    gbc=GradientBoostingClassifier(n_estimators=i,random_state=1)\n",
    "    print(\"no of descision stump:\",i)\n",
    "    #call the function\n",
    "    gbc=create_model(gbc)\n",
    "'''\n",
    "#create the object GradientBoostClassifier class#by deafalut gini index\n",
    "gbc=GradientBoostingClassifier(n_estimators=10,random_state=1)\n",
    "#n_estimators means no. of iteration of decision stump can be <=100_estimators can be <=100\n",
    "#call the function\n",
    "gbc=create_model(gbc)"
   ]
  },
  {
   "cell_type": "code",
   "execution_count": 60,
   "id": "22XTEODb7HG5",
   "metadata": {
    "id": "22XTEODb7HG5"
   },
   "outputs": [],
   "source": [
    "#conclusion :gradientboosting  recall score :   1-0.95 and 0 - 0.88 on decision stump:10"
   ]
  },
  {
   "cell_type": "code",
   "execution_count": 61,
   "id": "4fwXiSUT8YKm",
   "metadata": {
    "id": "4fwXiSUT8YKm"
   },
   "outputs": [],
   "source": [
    "#Extreme Gradient Boosting(XGB)\n",
    "#!pip install xgboost\n",
    "#call \n",
    "from xgboost import XGBClassifier"
   ]
  },
  {
   "cell_type": "code",
   "execution_count": 62,
   "id": "Rssjjycc8e_m",
   "metadata": {
    "colab": {
     "base_uri": "https://localhost:8080/",
     "height": 273
    },
    "id": "Rssjjycc8e_m",
    "outputId": "ccf64b5a-8902-483a-9528-5067df0d2b41"
   },
   "outputs": [
    {
     "name": "stdout",
     "output_type": "stream",
     "text": [
      "              precision    recall  f1-score   support\n",
      "\n",
      "           0       0.93      0.96      0.94      2844\n",
      "           1       0.96      0.92      0.94      2844\n",
      "\n",
      "    accuracy                           0.94      5688\n",
      "   macro avg       0.94      0.94      0.94      5688\n",
      "weighted avg       0.94      0.94      0.94      5688\n",
      "\n",
      "[[2723  121]\n",
      " [ 219 2625]]\n"
     ]
    }
   ],
   "source": [
    "'''\n",
    "for i in range(10,101):\n",
    "    #create object for RandomForestClassifier class\n",
    "    xgc=XGBClassifier(n_estimators=i,reg_alpha=1,random_state=1)\n",
    "    print(\"no of descision stump:\",i)\n",
    "    #call the function\n",
    "    xgc=create_model(xgc)\n",
    "'''\n",
    "#create object for XGBClassifier class\n",
    "xgc=XGBClassifier(n_estimators=10,reg_alpha=1,random_state=1)\n",
    "#automatic overftting : reg means regualrization  and alpha or lambda:\n",
    "#hyperpermater\n",
    "#n_estimators means no. of iteration of decision stump can be <=100_estimators can be <=100\n",
    "#call the function\n",
    "xgc=create_model(xgc)"
   ]
  },
  {
   "cell_type": "code",
   "execution_count": 63,
   "id": "9n5oYtC_8m9v",
   "metadata": {
    "id": "9n5oYtC_8m9v"
   },
   "outputs": [],
   "source": [
    "#conclusion :# extreme gradientboosting  recall score :   1-0.95 and 0 - 0.88 on decision stump:10"
   ]
  },
  {
   "cell_type": "code",
   "execution_count": 64,
   "id": "Fs3MhAsp9Pcp",
   "metadata": {
    "id": "Fs3MhAsp9Pcp"
   },
   "outputs": [],
   "source": [
    "#Apply Support Vector Machine (SVM)\n",
    "#1. Linear Separable data means Linear Kernal\n",
    "#call inbuilt class \n",
    "from sklearn.svm import LinearSVC\n",
    "#LinearSVC means Linear support vector classifier"
   ]
  },
  {
   "cell_type": "code",
   "execution_count": 65,
   "id": "r9pe1GeM99_6",
   "metadata": {
    "id": "r9pe1GeM99_6"
   },
   "outputs": [],
   "source": [
    "#create the object of LinearSVC class\n",
    "svc=LinearSVC(random_state=1) #bydefault hard margin , suppose no\n",
    "#outlier in my dataset means suppose no overfit \n",
    "#svc user defined object"
   ]
  },
  {
   "cell_type": "code",
   "execution_count": 66,
   "id": "-QZJEbVN-Ank",
   "metadata": {
    "colab": {
     "base_uri": "https://localhost:8080/"
    },
    "id": "-QZJEbVN-Ank",
    "outputId": "b607fcbc-4b1e-4263-8fc3-a78c2f34d695"
   },
   "outputs": [
    {
     "name": "stdout",
     "output_type": "stream",
     "text": [
      "              precision    recall  f1-score   support\n",
      "\n",
      "           0       0.79      0.71      0.75      2844\n",
      "           1       0.74      0.81      0.77      2844\n",
      "\n",
      "    accuracy                           0.76      5688\n",
      "   macro avg       0.76      0.76      0.76      5688\n",
      "weighted avg       0.76      0.76      0.76      5688\n",
      "\n",
      "[[2021  823]\n",
      " [ 551 2293]]\n"
     ]
    }
   ],
   "source": [
    "#call function \n",
    "svc=create_model(svc)"
   ]
  },
  {
   "cell_type": "code",
   "execution_count": 67,
   "id": "RlVBbkH7-C1F",
   "metadata": {
    "id": "RlVBbkH7-C1F"
   },
   "outputs": [],
   "source": [
    "#create object of LinearSVC class and add some external error \n",
    "svc1=LinearSVC(random_state=1,C=0.9) #soft margin\n",
    "\n",
    "#here C is parameter which is used to add some error during training time \n",
    "#set range of error 0.001 to 1 means C<=1"
   ]
  },
  {
   "cell_type": "code",
   "execution_count": 68,
   "id": "QHRedKkx-PkY",
   "metadata": {
    "colab": {
     "base_uri": "https://localhost:8080/"
    },
    "id": "QHRedKkx-PkY",
    "outputId": "5a0107d0-434a-443b-dcb8-15854ef79ff6"
   },
   "outputs": [
    {
     "name": "stdout",
     "output_type": "stream",
     "text": [
      "              precision    recall  f1-score   support\n",
      "\n",
      "           0       0.79      0.71      0.75      2844\n",
      "           1       0.74      0.81      0.77      2844\n",
      "\n",
      "    accuracy                           0.76      5688\n",
      "   macro avg       0.76      0.76      0.76      5688\n",
      "weighted avg       0.76      0.76      0.76      5688\n",
      "\n",
      "[[2021  823]\n",
      " [ 551 2293]]\n"
     ]
    }
   ],
   "source": [
    "#call function\n",
    "svc1=create_model(svc1)"
   ]
  },
  {
   "cell_type": "code",
   "execution_count": 69,
   "id": "KDt9f9V3-TJd",
   "metadata": {
    "id": "KDt9f9V3-TJd"
   },
   "outputs": [],
   "source": [
    "#data is not linear cause even after adding external errors nothing happened"
   ]
  },
  {
   "cell_type": "code",
   "execution_count": 70,
   "id": "60lOnSiU-csu",
   "metadata": {
    "id": "60lOnSiU-csu"
   },
   "outputs": [],
   "source": [
    "#polynomial kernel function\n",
    "#use ibuilt class SVC(support vector classifier)\n",
    "from sklearn.svm import SVC\n",
    "#SVC is used for polynomial and radial basis kernel function: both are used for non-linear data"
   ]
  },
  {
   "cell_type": "code",
   "execution_count": 71,
   "id": "BrhvRhVB-7OM",
   "metadata": {
    "id": "BrhvRhVB-7OM"
   },
   "outputs": [],
   "source": [
    "#create object for  SVC class and passing the poly in kernel parameter\n",
    "svc1= SVC(random_state=1,kernel=\"poly\")"
   ]
  },
  {
   "cell_type": "code",
   "execution_count": 72,
   "id": "01VgQOxx-99F",
   "metadata": {
    "colab": {
     "base_uri": "https://localhost:8080/"
    },
    "id": "01VgQOxx-99F",
    "outputId": "42f10e12-9590-4f7a-b09e-9530794665af"
   },
   "outputs": [
    {
     "name": "stdout",
     "output_type": "stream",
     "text": [
      "              precision    recall  f1-score   support\n",
      "\n",
      "           0       0.87      0.90      0.88      2844\n",
      "           1       0.89      0.86      0.88      2844\n",
      "\n",
      "    accuracy                           0.88      5688\n",
      "   macro avg       0.88      0.88      0.88      5688\n",
      "weighted avg       0.88      0.88      0.88      5688\n",
      "\n",
      "[[2552  292]\n",
      " [ 393 2451]]\n"
     ]
    }
   ],
   "source": [
    "#call function \n",
    "svc1=create_model(svc1)\n"
   ]
  },
  {
   "cell_type": "code",
   "execution_count": 73,
   "id": "9EUGtWUu_A8j",
   "metadata": {
    "colab": {
     "base_uri": "https://localhost:8080/"
    },
    "id": "9EUGtWUu_A8j",
    "outputId": "4a85ca01-74d9-4780-e393-b27b0c97265b"
   },
   "outputs": [
    {
     "name": "stdout",
     "output_type": "stream",
     "text": [
      "              precision    recall  f1-score   support\n",
      "\n",
      "           0       0.94      0.92      0.93      2844\n",
      "           1       0.92      0.94      0.93      2844\n",
      "\n",
      "    accuracy                           0.93      5688\n",
      "   macro avg       0.93      0.93      0.93      5688\n",
      "weighted avg       0.93      0.93      0.93      5688\n",
      "\n",
      "[[2622  222]\n",
      " [ 179 2665]]\n"
     ]
    }
   ],
   "source": [
    "#radial kernel function\n",
    "#create object for  SVC class and passing the radial basis in kernel parameter\n",
    "svc2= SVC(random_state=1,kernel=\"rbf\")\n",
    "#call function \n",
    "svc2=create_model(svc2)"
   ]
  },
  {
   "cell_type": "code",
   "execution_count": 74,
   "id": "rNK_NOTZ_NsC",
   "metadata": {
    "id": "rNK_NOTZ_NsC"
   },
   "outputs": [],
   "source": [
    "#Conclusion: SVM radial basis kernel\n",
    "#score of recall category 0:0.92 and 1:0.94"
   ]
  },
  {
   "cell_type": "code",
   "execution_count": 75,
   "id": "ImG8MHkV__NE",
   "metadata": {
    "colab": {
     "base_uri": "https://localhost:8080/",
     "height": 237
    },
    "id": "ImG8MHkV__NE",
    "outputId": "1448e05e-2af0-4030-f9dd-81a608aa8c1e"
   },
   "outputs": [
    {
     "data": {
      "text/html": [
       "<div>\n",
       "<style scoped>\n",
       "    .dataframe tbody tr th:only-of-type {\n",
       "        vertical-align: middle;\n",
       "    }\n",
       "\n",
       "    .dataframe tbody tr th {\n",
       "        vertical-align: top;\n",
       "    }\n",
       "\n",
       "    .dataframe thead th {\n",
       "        text-align: right;\n",
       "    }\n",
       "</style>\n",
       "<table border=\"1\" class=\"dataframe\">\n",
       "  <thead>\n",
       "    <tr style=\"text-align: right;\">\n",
       "      <th></th>\n",
       "      <th>Input</th>\n",
       "      <th>IG</th>\n",
       "    </tr>\n",
       "  </thead>\n",
       "  <tbody>\n",
       "    <tr>\n",
       "      <th>0</th>\n",
       "      <td>time_spend_company</td>\n",
       "      <td>0.376783</td>\n",
       "    </tr>\n",
       "    <tr>\n",
       "      <th>1</th>\n",
       "      <td>average_montly_hours</td>\n",
       "      <td>0.319154</td>\n",
       "    </tr>\n",
       "    <tr>\n",
       "      <th>2</th>\n",
       "      <td>number_project</td>\n",
       "      <td>0.245758</td>\n",
       "    </tr>\n",
       "    <tr>\n",
       "      <th>3</th>\n",
       "      <td>department</td>\n",
       "      <td>0.031884</td>\n",
       "    </tr>\n",
       "    <tr>\n",
       "      <th>4</th>\n",
       "      <td>salary</td>\n",
       "      <td>0.022549</td>\n",
       "    </tr>\n",
       "    <tr>\n",
       "      <th>5</th>\n",
       "      <td>Work_accident</td>\n",
       "      <td>0.003871</td>\n",
       "    </tr>\n",
       "  </tbody>\n",
       "</table>\n",
       "</div>"
      ],
      "text/plain": [
       "                  Input        IG\n",
       "0    time_spend_company  0.376783\n",
       "1  average_montly_hours  0.319154\n",
       "2        number_project  0.245758\n",
       "3            department  0.031884\n",
       "4                salary  0.022549\n",
       "5         Work_accident  0.003871"
      ]
     },
     "execution_count": 75,
     "metadata": {},
     "output_type": "execute_result"
    }
   ],
   "source": [
    "#KNN ALGORITHM\n",
    "df9"
   ]
  },
  {
   "cell_type": "code",
   "execution_count": 76,
   "id": "_WaumktvACwy",
   "metadata": {
    "id": "_WaumktvACwy"
   },
   "outputs": [],
   "source": [
    "#important features : input (estimatedsalary and Age)\n",
    "#select input and ouput\n",
    "x=df[[\"time_spend_company\",\"average_montly_hours\",\"number_project\"]]\n",
    "y=df[\"quit\"]"
   ]
  },
  {
   "cell_type": "code",
   "execution_count": 77,
   "id": "opGfKgzZBAqy",
   "metadata": {
    "id": "opGfKgzZBAqy"
   },
   "outputs": [],
   "source": [
    "# spliting the data of x and y using train_test_split\n",
    "from sklearn.model_selection import train_test_split\n",
    "x_train,x_test,y_train,y_test=train_test_split(x,y,test_size=0.3,random_state=1)"
   ]
  },
  {
   "cell_type": "code",
   "execution_count": 78,
   "id": "N8znT_nSBGFd",
   "metadata": {
    "id": "N8znT_nSBGFd"
   },
   "outputs": [],
   "source": [
    "#first apply standardscaler\n",
    "from sklearn.preprocessing import StandardScaler\n",
    "#create object for StandardScaler class\n",
    "ss=StandardScaler()\n",
    "x_train=ss.fit_transform(x_train)\n",
    "x_test=ss.transform(x_test)"
   ]
  },
  {
   "cell_type": "code",
   "execution_count": 79,
   "id": "xAzzk_cNBIt6",
   "metadata": {
    "id": "xAzzk_cNBIt6"
   },
   "outputs": [],
   "source": [
    "#give data to knn algorithm\n",
    "from sklearn.neighbors import KNeighborsClassifier\n",
    "#create object for KNeighboursClassifier class\n",
    "knc=KNeighborsClassifier(n_neighbors=7,metric=\"minkowski\",p=2)\n",
    "#p=2 means Euclidean distance means sqrt(x2-x1)*2+(y2-y1)*2\n",
    "#n_neighbors means k means select minimum point (always odd)\n",
    "#best value of k=5"
   ]
  },
  {
   "cell_type": "code",
   "execution_count": 80,
   "id": "iS0RHh7nBnyW",
   "metadata": {
    "colab": {
     "base_uri": "https://localhost:8080/"
    },
    "id": "iS0RHh7nBnyW",
    "outputId": "74e14b74-8b78-45ba-eab6-8330798b9c27"
   },
   "outputs": [
    {
     "name": "stdout",
     "output_type": "stream",
     "text": [
      "              precision    recall  f1-score   support\n",
      "\n",
      "           0       0.93      0.90      0.92      2844\n",
      "           1       0.90      0.93      0.92      2844\n",
      "\n",
      "    accuracy                           0.92      5688\n",
      "   macro avg       0.92      0.92      0.92      5688\n",
      "weighted avg       0.92      0.92      0.92      5688\n",
      "\n",
      "[[2563  281]\n",
      " [ 193 2651]]\n"
     ]
    }
   ],
   "source": [
    "#call function \n",
    "knc=create_model(knc)\n",
    "#at n_neighbors=5 it shows 1=0.92 and 0=0.91\n",
    "#thats why we used at n_neighbors=7 it shows 1=0.93 and 0=0.90"
   ]
  },
  {
   "cell_type": "code",
   "execution_count": 81,
   "id": "XGpsHOPaB-h4",
   "metadata": {
    "id": "XGpsHOPaB-h4"
   },
   "outputs": [],
   "source": [
    "#Final Conclusion: So far best one extreme gradient recall 0=0.88 and 1=0.95"
   ]
  }
 ],
 "metadata": {
  "colab": {
   "provenance": []
  },
  "kernelspec": {
   "display_name": "Python 3 (ipykernel)",
   "language": "python",
   "name": "python3"
  },
  "language_info": {
   "codemirror_mode": {
    "name": "ipython",
    "version": 3
   },
   "file_extension": ".py",
   "mimetype": "text/x-python",
   "name": "python",
   "nbconvert_exporter": "python",
   "pygments_lexer": "ipython3",
   "version": "3.9.12"
  }
 },
 "nbformat": 4,
 "nbformat_minor": 5
}
